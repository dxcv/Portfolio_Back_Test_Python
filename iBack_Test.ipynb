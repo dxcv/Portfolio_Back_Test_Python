{
 "cells": [
  {
   "cell_type": "markdown",
   "metadata": {},
   "source": [
    "# Simple back testing program for given price dataset\n",
    "**Author: Shaolun Du, Date: 03/17/18**\n",
    "* Please provide data set in the form of .csv named with 'data.csv'\n",
    "* Please run with Jupyter Notebook with Python 3\n",
    "* Comments and suggestions to 'Shaolun.du@gmail.com'"
   ]
  },
  {
   "cell_type": "code",
   "execution_count": 36,
   "metadata": {
    "collapsed": true
   },
   "outputs": [],
   "source": [
    "# Necessary libiaries imports\n",
    "import numpy as np\n",
    "import pandas as pd\n",
    "import matplotlib.pyplot as plt\n",
    "%matplotlib inline\n",
    "import seaborn as sns\n",
    "from datetime import datetime as dt\n",
    "from scipy.optimize import minimize\n",
    "from dateutil.relativedelta import relativedelta"
   ]
  },
  {
   "cell_type": "code",
   "execution_count": 37,
   "metadata": {
    "collapsed": true
   },
   "outputs": [],
   "source": [
    "# Data Loader\n",
    "def Data_loader(filename):\n",
    "    # Load data into dataframe and get rebalance dates list\n",
    "    dateparse = lambda x: pd.datetime.strptime(x, '%Y/%m/%d')\n",
    "    df = pd.read_csv(filename, delimiter=',', index_col=0, parse_dates=True, date_parser=dateparse, names=['Date','IF00.CFE','IC00.CFE','TF00.CFE','AU00.SHF','159920.OF','511880.SH'], header = 0)\n",
    "    grouped = df.groupby(pd.Grouper(freq='m'))\n",
    "    pct_chang_df = df.pct_change().fillna(0)\n",
    "    Rebalance_date_list = [m for m,data in grouped] \n",
    "    Rebalance_date_list = pd.to_datetime(Rebalance_date_list, format = '%Y/%m/%d')\n",
    "    \n",
    "    return df,pct_chang_df,Rebalance_date_list"
   ]
  },
  {
   "cell_type": "code",
   "execution_count": 38,
   "metadata": {
    "collapsed": true
   },
   "outputs": [],
   "source": [
    "# Objective function for mean-variance optimization\n",
    "def M_V(x, omega):\n",
    "    return np.matrix(x) * omega * np.matrix(x).T"
   ]
  },
  {
   "cell_type": "code",
   "execution_count": 39,
   "metadata": {
    "collapsed": true
   },
   "outputs": [],
   "source": [
    "# Objective function for Risk-Parity optimization\n",
    "def R_P(x, omega):\n",
    "    tmp = (omega * np.matrix(x).T).A1\n",
    "    risk = x * tmp\n",
    "    delta_risk = [sum((i - risk)**2) for i in risk]\n",
    "    return sum(delta_risk)"
   ]
  },
  {
   "cell_type": "code",
   "execution_count": 108,
   "metadata": {},
   "outputs": [],
   "source": [
    "# Objective function for momentum strategy:\n",
    "#     Long assets above N-days return's average \n",
    "#     Short assets below N-days return's average with equally sized weights\n",
    "def M_T(df, N):\n",
    "    cur_return = df.add(1).cumprod().tail(1)\n",
    "    # tail(N) means previous N days average\n",
    "    df_avg = df.tail(N).add(1).cumprod().mean()\n",
    "    weights = (cur_return>=df_avg).any().astype(int).get_values()\n",
    "    weights = [-1/len(weights) if ele<=0 else 1/len(weights) for ele in weights]\n",
    "    return weights"
   ]
  },
  {
   "cell_type": "code",
   "execution_count": 112,
   "metadata": {
    "collapsed": true
   },
   "outputs": [],
   "source": [
    "# Weights Computer\n",
    "def get_weights(method, pct_chang_df, Rebalance_date_list):\n",
    "    # Compute weights according to different methods \n",
    "    # User inputs = {'Equal', 'MV', 'RP', 'MT'}\n",
    "    num_assets = len(df.columns)\n",
    "    weights = []\n",
    "    # Ensure we have at least one year records for weight computing\n",
    "    early_start_date = pct_chang_df.index[0] + relativedelta(years=1)\n",
    "    for date in Rebalance_date_list:\n",
    "        # Condition for earliest start date\n",
    "        if date >= early_start_date:\n",
    "            # Slicing for date range with 1 year \n",
    "            mask = (pct_chang_df.index >= date-relativedelta(years=1)) & (pct_chang_df.index <= date)\n",
    "            # Calculate covariance matrix\n",
    "            cov_mat = pct_chang_df.loc[mask].cov()\n",
    "            omega = np.matrix(cov_mat.values)   \n",
    "            x0 = np.ones(omega.shape[0]) / omega.shape[0]  \n",
    "            bnds = tuple((0, None) for x in x0)\n",
    "            cons = ({'type': 'eq', 'fun': lambda x: sum(x) - 1})\n",
    "            options={'disp': False, 'maxiter': 1000, 'ftol': 1e-20}\n",
    "\n",
    "            if method == 'Equal':\n",
    "                # Equally weights portfolio\n",
    "                weights.append((np.ones(num_assets)/num_assets, date))\n",
    "            elif method == 'MV':\n",
    "                # M-V weights portfolio\n",
    "                temp = minimize(M_V, x0, args=(omega), bounds=bnds, constraints=cons, method='SLSQP', options=options)\n",
    "                weights.append((temp['x'],date)) \n",
    "            elif method == 'RP':\n",
    "                # Risk-Parity weights portfolio\n",
    "                temp = minimize(R_P, x0, args=(omega), bounds=bnds, constraints=cons, method='SLSQP', options=options)\n",
    "                weights.append((temp['x'],date))\n",
    "            elif method == 'MT':\n",
    "                # Using momentum strategy weights portfolio\n",
    "                mask = (pct_chang_df.index >= date-relativedelta(months=1)) & (pct_chang_df.index <= date)\n",
    "                # N stands for N-days previous moving average\n",
    "                N = 30\n",
    "                weights.append((M_T(pct_chang_df.loc[mask], N),date))\n",
    "            else:\n",
    "                # Error inputs\n",
    "                print('Cannot find the method---Error inputs')\n",
    "    \n",
    "    return weights"
   ]
  },
  {
   "cell_type": "code",
   "execution_count": 42,
   "metadata": {
    "collapsed": true
   },
   "outputs": [],
   "source": [
    "# Compute Net Portfolio Wealth \n",
    "# NOTE: We have to apply the result weights into next monthly period.\n",
    "def comput_net_wealth(pct_chang_df, weights):\n",
    "    net_wealth = []\n",
    "    # Compute portfolio net wealth with rebalance dates\n",
    "    i = -1\n",
    "    rebalance_date = weights[0][1]\n",
    "    for idx, row in pct_chang_df.iterrows():\n",
    "        if idx >= rebalance_date:\n",
    "            i += 1\n",
    "        # When i >=0 means we can start rebalance\n",
    "        if i >= 0:\n",
    "            rebalance_date = weights[i][1]\n",
    "            cur_weights = weights[i][0]\n",
    "            # Store net returns into dictionary with date and returns\n",
    "            net_wealth.append({'Date':idx, 'Return':row.dot(cur_weights)})\n",
    "    \n",
    "    return pd.DataFrame(net_wealth).set_index('Date')"
   ]
  },
  {
   "cell_type": "code",
   "execution_count": 43,
   "metadata": {
    "collapsed": true
   },
   "outputs": [],
   "source": [
    "# Calculate important portfolio statistics\n",
    "def compute_stats(net_welath, rf_rate):\n",
    "    # Compute Sharpe Ratio, Max_Drawdown, Annually return and Annually vol\n",
    "    sharpe_ratio = (net_welath.mean()*252-rf_rate)/(net_welath.std()*np.sqrt(252))\n",
    "    annually_return = net_welath.mean()*252\n",
    "    annually_vol = net_welath.std()*np.sqrt(252)\n",
    "    \n",
    "    # Get all possible maxdrawdown at every date time\n",
    "    cum_returns = net_welath.add(1).cumprod()\n",
    "    drawdown =  1 - cum_returns.div(cum_returns.cummax())\n",
    "\n",
    "    return (float(sharpe_ratio), float(annually_return), float(annually_vol), float(drawdown.max()))\n",
    "    "
   ]
  },
  {
   "cell_type": "code",
   "execution_count": 119,
   "metadata": {},
   "outputs": [
    {
     "name": "stdout",
     "output_type": "stream",
     "text": [
      "Portfolio statistics: Sharpe Ratio = 2.6561, Annually Return = 0.3240, Annually Vol = 0.1144, Max Drawdown = 0.1124\n"
     ]
    },
    {
     "data": {
      "image/png": "[encoded data removed]",
      "text/plain": [
       "<matplotlib.figure.Figure at 0x10da2d1d0>"
      ]
     },
     "metadata": {},
     "output_type": "display_data"
    }
   ],
   "source": [
    "###########################\n",
    "# Main program starts here:\n",
    "\n",
    "# Risk-free rate\n",
    "rf_rate = 0.02\n",
    "# Specify file name\n",
    "filename = 'data.csv'\n",
    "# Load data\n",
    "df,pct_chang_df,Rebalance_date_list = Data_loader(filename)\n",
    "# Specify method = ['Equal'(Equally weighted), 'MV'(Mean Variance), 'RP'(Risk Parity), 'MT'(Momentum strategy)]\n",
    "method = 'MT'\n",
    "weights = get_weights(method, pct_chang_df, Rebalance_date_list)\n",
    "net_welath = comput_net_wealth(pct_chang_df, weights)\n",
    "net_change = net_welath.add(1).cumprod()\n",
    "net_change.plot()\n",
    "# The order in stats = [sharpe_ratio, annually_return, annually_vol, max_drawdown]\n",
    "stats = compute_stats(net_welath, rf_rate)\n",
    "\n",
    "print(\"Portfolio statistics: Sharpe Ratio = %2.4f, Annually Return = %2.4f, Annually Vol = %2.4f, Max Drawdown = %2.4f\" % stats)"
   ]
  },
  {
   "cell_type": "code",
   "execution_count": 101,
   "metadata": {},
   "outputs": [
    {
     "data": {
      "text/plain": [
       "<matplotlib.axes._subplots.AxesSubplot at 0x1a1eb4c438>"
      ]
     },
     "execution_count": 101,
     "metadata": {},
     "output_type": "execute_result"
    },
    {
     "data": {
      "image/png": "[encoded data removed]",
      "text/plain": [
       "<matplotlib.figure.Figure at 0x1a1e4093c8>"
      ]
     },
     "metadata": {},
     "output_type": "display_data"
    }
   ],
   "source": [
    "df.plot()"
   ]
  },
  {
   "cell_type": "code",
   "execution_count": null,
   "metadata": {
    "collapsed": true
   },
   "outputs": [],
   "source": []
  }
 ],
 "metadata": {
  "kernelspec": {
   "display_name": "Python 3",
   "language": "python",
   "name": "python3"
  },
  "language_info": {
   "codemirror_mode": {
    "name": "ipython",
    "version": 3
   },
   "file_extension": ".py",
   "mimetype": "text/x-python",
   "name": "python",
   "nbconvert_exporter": "python",
   "pygments_lexer": "ipython3",
   "version": "3.6.3"
  }
 },
 "nbformat": 4,
 "nbformat_minor": 2
}
