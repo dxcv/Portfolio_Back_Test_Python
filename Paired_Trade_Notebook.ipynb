{
 "cells": [
  {
   "cell_type": "markdown",
   "metadata": {},
   "source": [
    "# This is a introducation for paired trades analysis program\n",
    "Alan, 2019-09-13"
   ]
  },
  {
   "cell_type": "markdown",
   "metadata": {},
   "source": [
    "Introduction:  \n",
    "This script generates paired trades information  \n",
    "Inputs:  \n",
    "    * Assuming all data record are sorted with \"Time\"  \n",
    "    * market data file(csv)  \n",
    "    * trades file(csv)  \n",
    "Output:  \n",
    "    * paired trades file(csv)  \n",
    "NOTE:  \n",
    "    * This implementation used two dynamicaly maintained  \n",
    "    * user defined structure:  \n",
    "    **    position   = stored all live positions information  \n",
    "    **    cur_market = stored current live market information given time  \n",
    "    * Program structure is simple by only three functions and one loop  \n",
    "    * Include liquidity measure as \"GOOD\" if trade price aline with market \n",
    "    * \"BAD\" if trade price off the market\n",
    "    * The momery costs is O(n), since dynamic sturcture is small  \n",
    "    *    only for reading all raw data costs  \n",
    "    * Total program running is O(n) we only go through the raw  \n",
    "    * data file once!  \n",
    "author:  Shaolun Du  \n",
    "contact: Shaolun.du@gmail.com  "
   ]
  },
  {
   "cell_type": "code",
   "execution_count": 7,
   "metadata": {
    "collapsed": true
   },
   "outputs": [],
   "source": [
    "###---Importing support libs---###\n",
    "import csv\n",
    "from collections import deque"
   ]
  },
  {
   "cell_type": "code",
   "execution_count": 8,
   "metadata": {
    "collapsed": true
   },
   "outputs": [],
   "source": [
    "###---User defined functions---###\n",
    "def market_update( market, \n",
    "                   cur_time,\n",
    "                   cur_market ):\n",
    "    \"\"\" Return currnet market information\n",
    "        given trading time in \"trade\"\n",
    "    \"\"\"\n",
    "    if len(market) == 0:\n",
    "        # No more new market information\n",
    "        # return latest market\n",
    "        return cur_market\n",
    "    if len(cur_market) == 0:\n",
    "        # Initilize market information\n",
    "        row = market.popleft()\n",
    "        cur_market[row[1]] = [int(row[0]),float(row[2]),float(row[3])]\n",
    "        cur_time = int(row[0])\n",
    "        while cur_time >= int(market[0][0]):\n",
    "            row = market.popleft()\n",
    "            cur_market[row[1]] = [int(row[0]),float(row[2]),float(row[3])]\n",
    "        return cur_market\n",
    "    while cur_time >= int(market[0][0]):\n",
    "        row = market.popleft()\n",
    "        cur_market[row[1]] = [int(row[0]),float(row[2]),float(row[3])]\n",
    "        if len(market) == 0:\n",
    "            # No more new market information\n",
    "            # return latest market\n",
    "            return cur_market\n",
    "    return cur_market"
   ]
  },
  {
   "cell_type": "code",
   "execution_count": 9,
   "metadata": {
    "collapsed": true
   },
   "outputs": [],
   "source": [
    "def generate_record( symbol, quant,\n",
    "                     open_time, open_side, open_price,liq_1,\n",
    "                     close_time, close_side, close_price,liq_2 ):\n",
    "    # Generate trading record with requirement\n",
    "    if close_side == \"S\":\n",
    "        multi = 1\n",
    "    else:\n",
    "        multi = -1\n",
    "    profit = multi*quant*(close_price-open_price)\n",
    "    record = [symbol, quant,\n",
    "              open_time, open_side, open_price,liq_1,\n",
    "              close_time, close_side, close_price,liq_2,profit]\n",
    "    return record"
   ]
  },
  {
   "cell_type": "code",
   "execution_count": 10,
   "metadata": {
    "collapsed": true
   },
   "outputs": [],
   "source": [
    "def execution( cur_market,\n",
    "               position,\n",
    "               trade ):\n",
    "    \"\"\" Return trade execution information \n",
    "        and positions after trading\n",
    "        given current positions and current market \n",
    "    \"\"\"\n",
    "    if len(trade) == 0:\n",
    "        raise Exception(\"ERROR in execution: No trades information.\")\n",
    "    record = []\n",
    "    time   = int(trade[0])\n",
    "    symbol = trade[1]\n",
    "    side   = trade[2]\n",
    "    price  = float(trade[3])\n",
    "    quant  = int(trade[4])\n",
    "    market = cur_market[symbol]\n",
    "    if side == \"B\" and price > market[2]:\n",
    "        liquidity = \"BAD\"\n",
    "    elif side == \"S\" and price < market[1]:\n",
    "        liquidity = \"BAD\"\n",
    "    else:\n",
    "        liquidity = \"GOOD\"\n",
    "    \"\"\"New trade or current no positions\n",
    "    \"\"\"\n",
    "    if symbol not in position.keys() or len(position[symbol]) == 0:\n",
    "        position[symbol] = deque()\n",
    "        position[symbol].append([time,side,price,quant,market[1],market[2],liquidity])\n",
    "        return position, record\n",
    "    \"\"\" Pair this trade with current positions\n",
    "        need to check cases:\n",
    "            1.offset to only one or several trades\n",
    "            2.any trades left over after offset\n",
    "            3.if some new trade quant left over \n",
    "                need to treat them as neww open trades\n",
    "        Return record list may be more than one records!\n",
    "    \"\"\"\n",
    "    cur_pos = position[symbol] # Get current positions\n",
    "    while quant > 0:\n",
    "        if len(cur_pos) == 0:\n",
    "            cur_pos.append([time,side,price,quant,market[1],market[2],liquidity])\n",
    "            break\n",
    "        cur_hold = cur_pos[0]\n",
    "        if cur_hold[1] == side:\n",
    "            # Same direction with current holding\n",
    "            cur_pos.append([time,side,price,quant,market[1],market[2],liquidity])\n",
    "            quant = 0\n",
    "        else:\n",
    "            # Offset direction to current holding\n",
    "            # Find a \"Pair\" here!\n",
    "            if cur_hold[3] == quant:\n",
    "                # Exact matching\n",
    "                recs = generate_record(symbol, quant,\n",
    "                                       cur_hold[0], cur_hold[1], cur_hold[2],cur_hold[6],\n",
    "                                       time, side, price,liquidity)\n",
    "                record.append(recs)\n",
    "                cur_pos.popleft()\n",
    "                quant = 0\n",
    "            elif cur_hold[3] > quant:\n",
    "                # Offset part of current holding\n",
    "                cur_hold[3] -= quant\n",
    "                recs = generate_record(symbol, quant,\n",
    "                                       cur_hold[0], cur_hold[1], cur_hold[2],cur_hold[6],\n",
    "                                       time, side, price,liquidity)\n",
    "                record.append(recs)\n",
    "                quant = 0\n",
    "            else:\n",
    "                # Over sell/buy to current holding \n",
    "                # Will open new opposite durection\n",
    "                # after this order\n",
    "                quant -= cur_hold[3]\n",
    "                recs = generate_record(symbol, cur_hold[3],\n",
    "                                       cur_hold[0], cur_hold[1], cur_hold[2],cur_hold[6],\n",
    "                                       time, side, price,liquidity)\n",
    "                record.append(recs)\n",
    "                cur_pos.popleft()\n",
    "    return position,record"
   ]
  },
  {
   "cell_type": "code",
   "execution_count": 11,
   "metadata": {
    "collapsed": true
   },
   "outputs": [],
   "source": [
    "###---Main function entry here!\n",
    "###---Loading in market and trades data\n",
    "trades_f = open('Trades.txt', newline='')\n",
    "market_f = open('Quotes.txt', newline='')\n",
    "trades   = list(csv.reader(trades_f, delimiter=',', quotechar='|'))[1:]\n",
    "market   = deque(csv.reader(market_f, delimiter=',', quotechar='|'))\n",
    "market.popleft() # Pop out the first line\n",
    "###---Loop through trades and dynamicly update market\n",
    "###---information for each trade records\n",
    "###---dynamicly maintains positions inforamtion as well\n",
    "paired_trade = [] # Answer dictionary\n",
    "cur_market   = {} # Current market trading information\n",
    "position     = {} # Current holiding positions\n",
    "record       = [] # Paired trades record\n",
    "cur_market   = market_update(market,0,cur_market) # Initilize market\n",
    "for t in trades:\n",
    "    cur_time        = int(t[0])\n",
    "    cur_market      = market_update( market, cur_time, cur_market ) # market information update\n",
    "    position,record = execution( cur_market, position, t ) # trade execution\n",
    "    if len(record) > 0:\n",
    "        # Collecting paired trades\n",
    "        for ele in record:\n",
    "            paired_trade.append( ele )"
   ]
  },
  {
   "cell_type": "code",
   "execution_count": 12,
   "metadata": {
    "collapsed": true
   },
   "outputs": [],
   "source": [
    "###---Start outputing results\n",
    "ans_string = \"\"\n",
    "for rec in paired_trade:\n",
    "    for ele in rec:\n",
    "        ans_string += str(ele)+\",\"\n",
    "    ans_string += \"\\n\"\n",
    "output_file = open(\"paired_trades.txt\",\"w\") \n",
    "output_file.write(ans_string)\n",
    "output_file.close()"
   ]
  },
  {
   "cell_type": "code",
   "execution_count": 13,
   "metadata": {},
   "outputs": [
    {
     "name": "stdout",
     "output_type": "stream",
     "text": [
      "[['DEF', 100, 2, 'S', 41.1, 'GOOD', 3, 'B', 16.57, 'GOOD', 2453.0], ['ABC', 100, 1, 'B', 23.45, 'BAD', 6, 'S', 24.69, 'BAD', 124.0000000000002], ['ABC', 200, 6, 'S', 24.69, 'BAD', 6, 'B', 18.06, 'GOOD', 1326.0000000000005], ['DEF', 100, 2, 'S', 41.1, 'GOOD', 9, 'B', 43.66, 'BAD', -255.99999999999952], ['DEF', 200, 3, 'S', 43.15, 'GOOD', 9, 'B', 43.66, 'BAD', -101.9999999999996]]\n"
     ]
    }
   ],
   "source": [
    "print(paired_trade)"
   ]
  },
  {
   "cell_type": "code",
   "execution_count": null,
   "metadata": {
    "collapsed": true
   },
   "outputs": [],
   "source": []
  }
 ],
 "metadata": {
  "kernelspec": {
   "display_name": "Python 3",
   "language": "python",
   "name": "python3"
  },
  "language_info": {
   "codemirror_mode": {
    "name": "ipython",
    "version": 3
   },
   "file_extension": ".py",
   "mimetype": "text/x-python",
   "name": "python",
   "nbconvert_exporter": "python",
   "pygments_lexer": "ipython3",
   "version": "3.6.1"
  }
 },
 "nbformat": 4,
 "nbformat_minor": 2
}
